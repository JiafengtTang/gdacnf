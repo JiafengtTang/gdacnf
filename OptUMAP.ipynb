{
 "cells": [
  {
   "cell_type": "code",
   "execution_count": null,
   "id": "41b5357d-a321-40ff-b3bb-c613f4741db8",
   "metadata": {},
   "outputs": [],
   "source": [
    "import warnings\n",
    "import numpy as np\n",
    "import pandas as pd\n",
    "import plotly.express as px\n",
    "from tqdm import tqdm\n",
    "import util\n",
    "import datasets2\n",
    "from GradualSelfTrain import *"
   ]
  },
  {
   "cell_type": "code",
   "execution_count": null,
   "id": "d4aaf8d8-14a6-4f7c-893e-a6244a2b1933",
   "metadata": {},
   "outputs": [],
   "source": [
    "settings = {\n",
    "            'portraits': datasets2.load_Portraits,\n",
    "            'mnist': datasets2.load_RotatedMNIST2,\n",
    "           }\n",
    "\n",
    "# neighbors = [5, 15, 30]\n",
    "# metrics = ['euclidean', 'correlation']\n",
    "components = np.arange(2, 15)\n",
    "rep = 5\n",
    "\n",
    "warnings.simplefilter('ignore')\n",
    "\n",
    "for name in settings.keys():\n",
    "    print(name)\n",
    "\n",
    "    results = {}\n",
    "    func = settings[name]\n",
    "    x_all, y_all = func()\n",
    "    for c in components:\n",
    "        z_all, _ = util.fit_umap(x_all, y_all, n_components=c)\n",
    "        accuracy = []\n",
    "        for r in range(rep):\n",
    "            clf = MLP(num_labels=np.unique(y_all[0]).size, input_dim=int(c), hidden_dim=32)\n",
    "            clf, _ = train_classifier(clf, z_all[0], y_all[0])\n",
    "            acc = calc_accuracy(clf, z_all[0], y_all[0])\n",
    "            accuracy.append(acc)\n",
    "\n",
    "        results[c] = (z_all, y_all, accuracy)\n",
    "        pd.to_pickle(results, f'umap_{name}.pkl')"
   ]
  },
  {
   "cell_type": "code",
   "execution_count": null,
   "id": "e64ac70a-354c-4f7c-86cb-d69750281bd0",
   "metadata": {},
   "outputs": [],
   "source": []
  }
 ],
 "metadata": {
  "kernelspec": {
   "display_name": "Python [conda env:.conda-torch-env]",
   "language": "python",
   "name": "conda-env-.conda-torch-env-py"
  },
  "language_info": {
   "codemirror_mode": {
    "name": "ipython",
    "version": 3
   },
   "file_extension": ".py",
   "mimetype": "text/x-python",
   "name": "python",
   "nbconvert_exporter": "python",
   "pygments_lexer": "ipython3",
   "version": "3.9.7"
  }
 },
 "nbformat": 4,
 "nbformat_minor": 5
}
